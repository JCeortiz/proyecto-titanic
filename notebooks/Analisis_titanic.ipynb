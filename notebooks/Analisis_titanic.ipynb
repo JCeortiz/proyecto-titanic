{
 "cells": [
  {
   "cell_type": "code",
   "execution_count": null,
   "id": "5a4c0d0b-d215-43f0-99e2-8eb43ac9e4cf",
   "metadata": {},
   "outputs": [],
   "source": [
    "# primera version notebook"
   ]
  }
 ],
 "metadata": {
  "kernelspec": {
   "display_name": "Python 3",
   "language": "python",
   "name": "python3"
  },
  "language_info": {
   "codemirror_mode": {
    "name": "ipython",
    "version": 3
   },
   "file_extension": ".py",
   "mimetype": "text/x-python",
   "name": "python",
   "nbconvert_exporter": "python",
   "pygments_lexer": "ipython3",
   "version": "3.7.10"
  }
 },
 "nbformat": 4,
 "nbformat_minor": 5
}
